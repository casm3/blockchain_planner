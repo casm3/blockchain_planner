{
 "cells": [
  {
   "cell_type": "code",
   "execution_count": 6,
   "metadata": {},
   "outputs": [],
   "source": [
    "from scipy.stats import binom\n",
    "import numpy as np"
   ]
  },
  {
   "cell_type": "code",
   "execution_count": 7,
   "metadata": {},
   "outputs": [],
   "source": [
    "mttf_se, mttr_se, mttf_co, mttr_co = 0.0008568980291, 2.857142857, 0.0007961783439, 6.666666667"
   ]
  },
  {
   "cell_type": "code",
   "execution_count": 17,
   "metadata": {},
   "outputs": [],
   "source": [
    "binomiais = []\n",
    "def general_koon(i,p):\n",
    "    av_se = (mttr_se / (mttf_se + mttr_se))\n",
    "    av_en = (mttr_co / (mttf_co + mttr_co))\n",
    "    av_ca = (mttr_co / (mttf_co + mttr_co))\n",
    "    av_ord = (mttr_co / (mttf_co + mttr_co))\n",
    "    for j in range(0,p):\n",
    "        if i == 2:\n",
    "            binomiais.append(binom.pmf(k=j, n=p, p=[((av_se * av_en * av_ord * av_ca)**(j))*((1-(av_se * av_en * av_ord * av_ca))**(p-j))]))\n",
    "        elif i == 1:\n",
    "            binomiais.append(binom.cdf(k=j, n=p, p=[((av_se * av_en * av_ord * av_ca)**(j))*((1-(av_se * av_en * av_ord * av_ca))**(p-j))]))\n",
    "        elif i == p & i >= 3:\n",
    "            binomiais.append(binom.pmf(k=j, n=p, p=[((av_se * av_en * av_ord * av_ca)**(j))*((1-(av_se * av_en * av_ord * av_ca))**(j))]))\n",
    "    return binomiais"
   ]
  },
  {
   "cell_type": "code",
   "execution_count": 18,
   "metadata": {},
   "outputs": [
    {
     "data": {
      "text/plain": [
       "[array([0.999999134304608]), array([0.999999567721574])]"
      ]
     },
     "execution_count": 18,
     "metadata": {},
     "output_type": "execute_result"
    }
   ],
   "source": [
    "maquinas = 2\n",
    "k = 1\n",
    "np.set_printoptions(formatter={'float': lambda x: \"{0:0.15f}\".format(x)})\n",
    "general_koon(k,maquinas)"
   ]
  },
  {
   "cell_type": "code",
   "execution_count": 19,
   "metadata": {},
   "outputs": [
    {
     "name": "stdout",
     "output_type": "stream",
     "text": [
      "[0.999999567721574]\n"
     ]
    }
   ],
   "source": [
    "if k == 2:\n",
    "    a = 1-binomiais[-1]\n",
    "elif k == 1:\n",
    "    a = binomiais[-1]\n",
    "# elif k == 3:\n",
    "#     a = 1-binomiais[1]\n",
    "elif (k == 3 & k < maquinas):\n",
    "    a = 1-binomiais[2]\n",
    "else:\n",
    "    a = 1-binomiais[1]\n",
    "print(a)"
   ]
  }
 ],
 "metadata": {
  "kernelspec": {
   "display_name": "Python 3",
   "language": "python",
   "name": "python3"
  },
  "language_info": {
   "codemirror_mode": {
    "name": "ipython",
    "version": 3
   },
   "file_extension": ".py",
   "mimetype": "text/x-python",
   "name": "python",
   "nbconvert_exporter": "python",
   "pygments_lexer": "ipython3",
   "version": "3.7.1"
  }
 },
 "nbformat": 4,
 "nbformat_minor": 2
}
